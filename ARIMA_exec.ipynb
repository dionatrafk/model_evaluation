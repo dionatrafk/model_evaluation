{
  "nbformat": 4,
  "nbformat_minor": 0,
  "metadata": {
    "colab": {
      "name": "ARIMA_exec.ipynb",
      "version": "0.3.2",
      "provenance": [],
      "collapsed_sections": [],
      "include_colab_link": true
    },
    "kernelspec": {
      "name": "python2",
      "display_name": "Python 2"
    }
  },
  "cells": [
    {
      "cell_type": "markdown",
      "metadata": {
        "id": "view-in-github",
        "colab_type": "text"
      },
      "source": [
        "<a href=\"https://colab.research.google.com/github/dionatrafk/model_evaluation/blob/master/ARIMA_exec.ipynb\" target=\"_parent\"><img src=\"https://colab.research.google.com/assets/colab-badge.svg\" alt=\"Open In Colab\"/></a>"
      ]
    },
    {
      "metadata": {
        "id": "cQ3KYRUuLBcj",
        "colab_type": "text"
      },
      "cell_type": "markdown",
      "source": [
        "# Auto Regressive Integrated Moving Average (ARIMA)"
      ]
    },
    {
      "metadata": {
        "id": "YJoTiYuQK6ul",
        "colab_type": "code",
        "colab": {}
      },
      "cell_type": "code",
      "source": [
        "#Importar datasets\n",
        "!git clone https://github.com/dionatrafk/model_evaluation"
      ],
      "execution_count": 0,
      "outputs": []
    },
    {
      "metadata": {
        "id": "G7ouP5M2LQQ3",
        "colab_type": "text"
      },
      "cell_type": "markdown",
      "source": [
        "**Execution options: **default 60 minute predictions.\n",
        "\n",
        "**Copy a row of hyperparameters and paste into row 2 of the next cell.**\n",
        "\n",
        "'trace1.csv', 0, 1, 2 \\\n",
        "'trace5.csv', 2, 0, 1 \\\n",
        "'trace10.csv', 0, 1, 1 \\\n",
        "'trace15.csv', 0, 2, 1 \\\n",
        "'trace20.csv', 1, 0, 2 \\\n",
        "'trace25.csv', 4, 0, 1 \\\n",
        "'trace30.csv', 2, 0, 2 \\\n",
        "'trace35.csv', 4, 0, 1 \\\n",
        "'trace40.csv', 8, 0, 1 \\\n",
        "'trace45.csv', 2, 0, 2 \\\n",
        "'trace50.csv', 2, 0, 1 \\\n",
        "'trace55.csv', 10, 0, 2 \\\n",
        "'trace60.csv', 2, 1, 2 \\"
      ]
    },
    {
      "metadata": {
        "id": "-S-fdENeLl_P",
        "colab_type": "code",
        "colab": {}
      },
      "cell_type": "code",
      "source": [
        "#define hyperparameters\n",
        "filename, p, d, q = 'trace60.csv', 2, 1, 2\n",
        "\n",
        "path = 'model_evaluation/http_requests_nasa/'\n",
        "filename = path + filename"
      ],
      "execution_count": 0,
      "outputs": []
    },
    {
      "metadata": {
        "id": "OoqcmpQTLUhk",
        "colab_type": "code",
        "colab": {}
      },
      "cell_type": "code",
      "source": [
        "from pandas import read_csv\n",
        "from pandas import datetime\n",
        "from matplotlib import pyplot\n",
        "from statsmodels.tsa.arima_model import ARIMA\n",
        "from sklearn.metrics import mean_squared_error, r2_score\n",
        "from math import sqrt\n",
        "import numpy as np\n",
        "import math\n",
        "import sys,os\n",
        "import datetime\n",
        "\n",
        "#perc = float(sys.argv[5])\n",
        "print p,d,q\n",
        "\n",
        "#read the csv file\n",
        "dataset = read_csv(filename, header=0, parse_dates=[0], index_col=0, squeeze=True)\n",
        "\n",
        "# split into train and test sets\n",
        "X = dataset.values\n",
        "X = X.astype('float32')\n",
        "size = int(len(X) * 0.67)\n",
        "train, test = X[0:size], X[size:len(X)]\n",
        "series = [x for x in train]\n",
        "predictions = list()\n",
        "\n",
        "training_size = len(train)\n",
        "\n",
        "#test with less samples\t\n",
        "#size = int(training_size * (perc /100))\n",
        "#series = series[size:training_size:]\n",
        "timer = start = datetime.datetime.now() \n",
        "# walk-forward validation\n",
        "#print 'current, prediction'\n",
        "for t in range(len(test)):\n",
        "  model = ARIMA(series, order=(p,d,q))\n",
        "  model_fit = model.fit(disp=0)\n",
        "  output = model_fit.forecast()\n",
        "\n",
        "  yhat = output[0]\n",
        "  predictions.append(yhat)\n",
        "  current = test[t]\n",
        "  series.append(current)\n",
        " \n",
        "  #print('%.2f, %.2f' % (current,yhat))\n",
        "\n",
        "# evaluate forecasts\n",
        "\n",
        "print \"Timer: \", datetime.datetime.now() - timer\n",
        "score = mean_squared_error(test, predictions)\n",
        "r2 = r2_score(test, predictions)\n",
        "print ('R2: %.2f, Testscore: %.2f MSE (%.2f RMSE)' %(r2,score, math.sqrt(score)))\n",
        "\n",
        "#plot the execution\n",
        "pyplot.plot(test)\n",
        "pyplot.plot(predictions, color='green')\n",
        "pyplot.show()\n"
      ],
      "execution_count": 0,
      "outputs": []
    }
  ]
}
